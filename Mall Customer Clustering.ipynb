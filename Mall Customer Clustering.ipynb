{
 "cells": [
  {
   "cell_type": "markdown",
   "id": "1e36fcfb-ec27-4a0c-9a13-80773ed846a4",
   "metadata": {},
   "source": [
    "# Load Libraries"
   ]
  },
  {
   "cell_type": "code",
   "execution_count": null,
   "id": "7a5201dd-3eb5-4660-977f-f8232b9457ac",
   "metadata": {},
   "outputs": [],
   "source": [
    "import numpy as np\n",
    "import pandas as pd\n",
    "\n",
    "import matplotlib.pyplot as plt\n",
    "import seaborn as sns\n",
    "from yellowbrick.cluster import KElbowVisualizer, SilhouetteVisualizer\n",
    "\n",
    "from sklearn.cluster import KMeans\n",
    "from sklearn.cluster import DBSCAN\n",
    "from sklearn.cluster import AgglomerativeClustering\n",
    "from sklearn.cluster import AffinityPropagation\n",
    "from sklearn.cluster import Birch\n",
    "from sklearn.cluster import MiniBatchKMeans\n",
    "from sklearn.cluster import MeanShift\n",
    "from sklearn.cluster import SpectralClustering\n",
    "from sklearn.cluster import OPTICS\n",
    "from sklearn.mixture import GaussianMixture\n",
    "\n",
    "from sklearn.metrics import silhouette_score, davies_bouldin_score\n",
    "\n",
    "import warnings\n",
    "warnings.filterwarnings(\"ignore\")"
   ]
  },
  {
   "cell_type": "markdown",
   "id": "cd527b9d-dcb4-468a-93ab-68b1bb067fc9",
   "metadata": {},
   "source": [
    "# Load Data"
   ]
  },
  {
   "cell_type": "code",
   "execution_count": null,
   "id": "6cab20bd-d742-4934-8318-1d17366ec6f8",
   "metadata": {},
   "outputs": [],
   "source": [
    "data = pd.read_csv(\"/mnt/hdd/Datasets/Mall_Customers.csv\")\n",
    "df = data.copy()\n",
    "df.head()"
   ]
  },
  {
   "cell_type": "code",
   "execution_count": null,
   "id": "35f81cfc-a6d9-40af-bf06-61321ed57e59",
   "metadata": {},
   "outputs": [],
   "source": [
    "df = df.iloc[:, 3:]\n",
    "df.head()"
   ]
  },
  {
   "cell_type": "markdown",
   "id": "c031495a-fd42-4eee-b416-2bd5a5b6bd38",
   "metadata": {},
   "source": [
    "# Functions"
   ]
  },
  {
   "cell_type": "code",
   "execution_count": null,
   "id": "e5e694b9-7dd2-4289-8492-7cd22bb66847",
   "metadata": {},
   "outputs": [],
   "source": [
    "def plot_clustering(labels, centers, title):\n",
    "    plt.figure(figsize=(12, 7))\n",
    "    sns.scatterplot(x=df[\"Annual Income (k$)\"], y=df[\"Spending Score (1-100)\"], cmap=\"viridis\", c=labels, s=100)\n",
    "    sns.scatterplot(x=centers[:, 0], y=centers[:, 1], color=\"red\", marker=\"h\", s=300)\n",
    "    plt.title(title)\n",
    "    plt.show()"
   ]
  },
  {
   "cell_type": "code",
   "execution_count": null,
   "id": "1ebed8e1-7e04-441d-b84d-f614c76f03f9",
   "metadata": {},
   "outputs": [],
   "source": [
    "def plot_elbow(model, k):\n",
    "    visualizer = KElbowVisualizer(model, k=k)\n",
    "    visualizer.fit(df)\n",
    "    visualizer.poof()"
   ]
  },
  {
   "cell_type": "code",
   "execution_count": null,
   "id": "73876aba-247d-4bf0-997e-d4c4b67a0243",
   "metadata": {},
   "outputs": [],
   "source": [
    "def plot_silhouette(model):\n",
    "    visualizer = SilhouetteVisualizer(model)\n",
    "    visualizer.fit(df)\n",
    "    visualizer.poof()"
   ]
  },
  {
   "cell_type": "markdown",
   "id": "03ae79cc-7033-4698-b61e-8967e39afc27",
   "metadata": {},
   "source": [
    "# 1. K-Means"
   ]
  },
  {
   "cell_type": "code",
   "execution_count": null,
   "id": "ca91c9ea-b116-4597-9507-fd582b5e8956",
   "metadata": {},
   "outputs": [],
   "source": [
    "kmeans = KMeans(n_clusters=2)\n",
    "kmeans.fit(df)"
   ]
  },
  {
   "cell_type": "code",
   "execution_count": null,
   "id": "8e461a03-dfe0-4283-8068-38731d08aa15",
   "metadata": {},
   "outputs": [],
   "source": [
    "kmeans_labels = kmeans.labels_\n",
    "kmeans_centers = kmeans.cluster_centers_"
   ]
  },
  {
   "cell_type": "code",
   "execution_count": null,
   "id": "58707c22-43eb-4a2c-8154-17252c1c8946",
   "metadata": {},
   "outputs": [],
   "source": [
    "kmeans_sil = silhouette_score(df, kmeans_labels)\n",
    "kmeans_dav = davies_bouldin_score(df, kmeans_labels)\n",
    "\n",
    "print(\"Silhouette Score:\", kmeans_sil)\n",
    "print(\"Davies Bouldin Score:\", kmeans_dav)"
   ]
  },
  {
   "cell_type": "code",
   "execution_count": null,
   "id": "1b04d3f2-6c65-4195-9068-be49f1af79e8",
   "metadata": {},
   "outputs": [],
   "source": [
    "plot_clustering(kmeans_labels, kmeans_centers, \"K-Means(2)\")"
   ]
  },
  {
   "cell_type": "code",
   "execution_count": null,
   "id": "d89d87c7-2282-4691-a5c4-241995d64c93",
   "metadata": {},
   "outputs": [],
   "source": [
    "plot_elbow(KMeans(), (1, 15))"
   ]
  },
  {
   "cell_type": "code",
   "execution_count": null,
   "id": "5e4682b7-5cf3-4c02-85d8-40c30fdbc3af",
   "metadata": {},
   "outputs": [],
   "source": [
    "kmeans = KMeans(n_clusters=5)\n",
    "kmeans.fit(df)"
   ]
  },
  {
   "cell_type": "code",
   "execution_count": null,
   "id": "99f7cf39-ca33-4f03-a29f-f91c4627fd1d",
   "metadata": {},
   "outputs": [],
   "source": [
    "kmeans_labels = kmeans.labels_\n",
    "kmeans_centers = kmeans.cluster_centers_"
   ]
  },
  {
   "cell_type": "code",
   "execution_count": null,
   "id": "6ecab74d-e7ff-4c61-900f-d08895f0cdcc",
   "metadata": {},
   "outputs": [],
   "source": [
    "kmeans_sil = silhouette_score(df, kmeans_labels)\n",
    "kmeans_dav = davies_bouldin_score(df, kmeans_labels)\n",
    "\n",
    "print(\"Silhouette Score:\", kmeans_sil)\n",
    "print(\"Davies Bouldin Score:\", kmeans_dav)"
   ]
  },
  {
   "cell_type": "code",
   "execution_count": null,
   "id": "483e5b81-5e3b-4957-9d4c-501b6364ddbf",
   "metadata": {},
   "outputs": [],
   "source": [
    "plot_clustering(kmeans_labels, kmeans_centers, \"K-Means(5)\")"
   ]
  },
  {
   "cell_type": "markdown",
   "id": "218dd827-4732-424f-8ba7-ea752851eec5",
   "metadata": {},
   "source": [
    "# 2. DBSCAN"
   ]
  },
  {
   "cell_type": "code",
   "execution_count": null,
   "id": "e5acd07a-db08-4184-9524-e754da0a1911",
   "metadata": {},
   "outputs": [],
   "source": [
    "X = df.iloc[:, [0,1]].values"
   ]
  },
  {
   "cell_type": "code",
   "execution_count": null,
   "id": "075da462-c74c-42da-82fc-5dd8aa4b8fd2",
   "metadata": {},
   "outputs": [],
   "source": [
    "dbscan = DBSCAN(eps=0.5, min_samples=5)\n",
    "yhat = dbscan.fit_predict(X)"
   ]
  },
  {
   "cell_type": "code",
   "execution_count": null,
   "id": "129bdea5-b3a0-4600-809e-a81585ce51bc",
   "metadata": {},
   "outputs": [],
   "source": [
    "clusters = np.unique(yhat)\n",
    "for cluster in clusters:\n",
    "    idx = np.where(yhat == cluster)\n",
    "    plt.scatter(X[idx, 0], X[idx, 1], cmap=\"viridis\", s=100)\n",
    "\n",
    "plt.title(\"DBSCAN(eps=0.5, min_samples=5)\")\n",
    "plt.show()"
   ]
  },
  {
   "cell_type": "markdown",
   "id": "a9fb6dfc-d7af-4145-8f19-9fa4283c2981",
   "metadata": {},
   "source": [
    "# 3. Agglomerative Clustering"
   ]
  },
  {
   "cell_type": "code",
   "execution_count": null,
   "id": "5c17ea29-b790-4234-8f56-49342231931c",
   "metadata": {},
   "outputs": [],
   "source": [
    "agg = AgglomerativeClustering(n_clusters=2)\n",
    "yhat = agg.fit_predict(X)"
   ]
  },
  {
   "cell_type": "code",
   "execution_count": null,
   "id": "fb74c016-920b-4297-b4b9-317ea8e5f8d7",
   "metadata": {},
   "outputs": [],
   "source": [
    "clusters = np.unique(yhat)\n",
    "for cluster in clusters:\n",
    "    idx = np.where(yhat == cluster)\n",
    "    plt.scatter(X[idx, 0], X[idx, 1], cmap=\"viridis\", s=100)\n",
    "\n",
    "plt.title(\"AgglomerativeClustering(n_clusters=2)\")\n",
    "plt.show()"
   ]
  },
  {
   "cell_type": "code",
   "execution_count": null,
   "id": "258a94ca-c3a3-4159-9350-2d2456b3d37f",
   "metadata": {},
   "outputs": [],
   "source": [
    "agg_labels = agg.labels_\n",
    "agg_sil = silhouette_score(df, agg_labels)\n",
    "agg_dav = davies_bouldin_score(df, agg_labels)\n",
    "\n",
    "print(\"Silhouette Score:\", agg_sil)\n",
    "print(\"Davies Bouldin Score:\", agg_dav)"
   ]
  },
  {
   "cell_type": "code",
   "execution_count": null,
   "id": "d3a71298-3a29-4a7e-af34-e4abfddb8a89",
   "metadata": {},
   "outputs": [],
   "source": [
    "plot_elbow(AgglomerativeClustering(), k=(1, 15))"
   ]
  },
  {
   "cell_type": "code",
   "execution_count": null,
   "id": "e121fa01-3879-43dc-87ad-207f9c7b28d6",
   "metadata": {},
   "outputs": [],
   "source": [
    "agg = AgglomerativeClustering(n_clusters=5)\n",
    "yhat = agg.fit_predict(X)"
   ]
  },
  {
   "cell_type": "code",
   "execution_count": null,
   "id": "51e81648-71d1-47db-889e-1627a7709afc",
   "metadata": {},
   "outputs": [],
   "source": [
    "clusters = np.unique(yhat)\n",
    "for cluster in clusters:\n",
    "    idx = np.where(yhat == cluster)\n",
    "    plt.scatter(X[idx, 0], X[idx, 1], cmap=\"viridis\", s=100)\n",
    "\n",
    "plt.title(\"AgglomerativeClustering(n_clusters=5)\")\n",
    "plt.show()"
   ]
  },
  {
   "cell_type": "code",
   "execution_count": null,
   "id": "c2e44fd4-f6df-4522-822c-97195b5a7dd1",
   "metadata": {},
   "outputs": [],
   "source": [
    "agg_labels = agg.labels_\n",
    "agg_sil = silhouette_score(df, agg_labels)\n",
    "agg_dav = davies_bouldin_score(df, agg_labels)\n",
    "\n",
    "print(\"Silhouette Score:\", agg_sil)\n",
    "print(\"Davies Bouldin Score:\", agg_dav)"
   ]
  },
  {
   "cell_type": "markdown",
   "id": "80a97fac-0681-46dc-9004-c087dc12a0ca",
   "metadata": {},
   "source": [
    "# 4. Affinity Propagation"
   ]
  },
  {
   "cell_type": "code",
   "execution_count": null,
   "id": "8e4e4ca8-e5a4-43f9-87fb-cdf716f98a60",
   "metadata": {},
   "outputs": [],
   "source": [
    "ap = AffinityPropagation(damping=0.8)\n",
    "yhat = ap.fit_predict(df)"
   ]
  },
  {
   "cell_type": "code",
   "execution_count": null,
   "id": "bacf74ca-2e95-43c5-9848-93cae669d3eb",
   "metadata": {},
   "outputs": [],
   "source": [
    "clusters = np.unique(yhat)\n",
    "ap_labels = ap.labels_\n",
    "ap_centers = ap.cluster_centers_"
   ]
  },
  {
   "cell_type": "code",
   "execution_count": null,
   "id": "d01b2a84-31f4-4d38-b973-a9f166c79162",
   "metadata": {},
   "outputs": [],
   "source": [
    "plot_clustering(ap_labels, ap_centers, \"AffinityPropagation(damping=0.8)\")"
   ]
  },
  {
   "cell_type": "code",
   "execution_count": null,
   "id": "6c0a6b69-ac6c-4e93-ae3b-161c07420793",
   "metadata": {},
   "outputs": [],
   "source": [
    "ap_sil = silhouette_score(df, ap_labels)\n",
    "ap_dav = davies_bouldin_score(df, ap_labels)\n",
    "\n",
    "print(\"Silhouette Score:\", ap_sil)\n",
    "print(\"Davies Bouldin Score:\", ap_dav)"
   ]
  },
  {
   "cell_type": "code",
   "execution_count": null,
   "id": "30179d59-51e7-4ac2-afa5-4b1e2dd596d7",
   "metadata": {},
   "outputs": [],
   "source": [
    "best_damping = 0.5\n",
    "best_silhouette_score = -1\n",
    "\n",
    "for damping in np.arange(0.5, 1.0, 0.1):\n",
    "    affinity_propagation = AffinityPropagation(damping=damping)\n",
    "    affinity_propagation.fit(df)\n",
    "    labels = affinity_propagation.labels_\n",
    "    silhouette = metrics.silhouette_score(df, labels, metric='euclidean')\n",
    "    \n",
    "    if silhouette > best_silhouette_score:\n",
    "        best_silhouette_score = silhouette\n",
    "        best_damping = damping\n",
    "\n",
    "print(\"En iyi damping değeri:\", best_damping)"
   ]
  },
  {
   "cell_type": "code",
   "execution_count": null,
   "id": "d0add2b0-f558-49f2-9d41-ca58f2779f7d",
   "metadata": {},
   "outputs": [],
   "source": [
    "ap = AffinityPropagation(damping=0.9)\n",
    "yhat = ap.fit_predict(df)"
   ]
  },
  {
   "cell_type": "code",
   "execution_count": null,
   "id": "c1d3ffe6-4ffb-4cba-a094-d39fb718fac1",
   "metadata": {},
   "outputs": [],
   "source": [
    "clusters = np.unique(yhat)\n",
    "ap_labels = ap.labels_\n",
    "ap_centers = ap.cluster_centers_"
   ]
  },
  {
   "cell_type": "code",
   "execution_count": null,
   "id": "03e3d81b-9da8-4f2c-81ab-b0ee1935789f",
   "metadata": {},
   "outputs": [],
   "source": [
    "plot_clustering(ap_labels, ap_centers, \"AffinityPropagation(damping=0.9)\")"
   ]
  },
  {
   "cell_type": "code",
   "execution_count": null,
   "id": "09c03b66-ce3c-49c1-8c20-411d49177975",
   "metadata": {},
   "outputs": [],
   "source": [
    "ap_sil = silhouette_score(df, ap_labels)\n",
    "ap_dav = davies_bouldin_score(df, ap_labels)\n",
    "\n",
    "print(\"Silhouette Score:\", ap_sil)\n",
    "print(\"Davies Bouldin Score:\", ap_dav)"
   ]
  },
  {
   "cell_type": "markdown",
   "id": "cee0f1b9-a1e0-4a04-b753-dd0e149a3092",
   "metadata": {},
   "source": [
    "# 5. BIRCH"
   ]
  },
  {
   "cell_type": "code",
   "execution_count": null,
   "id": "1efd019e-9892-428c-8d7d-229cb19de92c",
   "metadata": {},
   "outputs": [],
   "source": [
    "birch = Birch(threshold=0.01, n_clusters=2)\n",
    "yhat = birch.fit_predict(df)"
   ]
  },
  {
   "cell_type": "code",
   "execution_count": null,
   "id": "79e61b3a-05d9-4b70-bdc8-d1fc420a0be9",
   "metadata": {},
   "outputs": [],
   "source": [
    "clusters = np.unique(yhat)\n",
    "birch_labels = birch.labels_"
   ]
  },
  {
   "cell_type": "code",
   "execution_count": null,
   "id": "3ef1aee2-90cb-4b7d-92b3-869c586e5b39",
   "metadata": {},
   "outputs": [],
   "source": [
    "for cluster in clusters:\n",
    "    idx = np.where(yhat == cluster)\n",
    "    plt.scatter(X[idx, 0], X[idx, 1], cmap=\"viridis\", s=100)\n",
    "\n",
    "plt.title(\"Birch(threshold=0.01, n_clusters=2)\")\n",
    "plt.show()"
   ]
  },
  {
   "cell_type": "code",
   "execution_count": null,
   "id": "7faf3e35-96a5-4585-997a-1ec278f11727",
   "metadata": {},
   "outputs": [],
   "source": [
    "birch_sil = silhouette_score(df, birch_labels)\n",
    "birch_dav = davies_bouldin_score(df, birch_labels)\n",
    "\n",
    "print(\"Silhouette Score:\", birch_sil)\n",
    "print(\"Davies Bouldin Score:\", birch_dav)"
   ]
  },
  {
   "cell_type": "code",
   "execution_count": null,
   "id": "4deafb4d-b511-4afd-875f-80a4a5dd19bb",
   "metadata": {},
   "outputs": [],
   "source": [
    "plot_elbow(Birch(), k=(1, 15))"
   ]
  },
  {
   "cell_type": "code",
   "execution_count": null,
   "id": "8c9573e8-52eb-49fd-a526-7f9ad21e6725",
   "metadata": {},
   "outputs": [],
   "source": [
    "birch = Birch(threshold=0.01, n_clusters=5)\n",
    "yhat = birch.fit_predict(df)"
   ]
  },
  {
   "cell_type": "code",
   "execution_count": null,
   "id": "4c54a8e1-5dae-4ad5-8be9-372705e01ed2",
   "metadata": {},
   "outputs": [],
   "source": [
    "clusters = np.unique(yhat)\n",
    "birch_labels = birch.labels_"
   ]
  },
  {
   "cell_type": "code",
   "execution_count": null,
   "id": "736609b3-1889-4db3-a3bb-6db9068bdbc6",
   "metadata": {},
   "outputs": [],
   "source": [
    "for cluster in clusters:\n",
    "    idx = np.where(yhat == cluster)\n",
    "    plt.scatter(X[idx, 0], X[idx, 1], cmap=\"viridis\", s=100)\n",
    "\n",
    "plt.title(\"Birch(threshold=0.01, n_clusters=5)\")\n",
    "plt.show()"
   ]
  },
  {
   "cell_type": "code",
   "execution_count": null,
   "id": "58ba9a3c-ff16-4583-9fdb-cbaae38e7e52",
   "metadata": {},
   "outputs": [],
   "source": [
    "birch_sil = silhouette_score(df, birch_labels)\n",
    "birch_dav = davies_bouldin_score(df, birch_labels)\n",
    "\n",
    "print(\"Silhouette Score:\", birch_sil)\n",
    "print(\"Davies Bouldin Score:\", birch_dav)"
   ]
  },
  {
   "cell_type": "code",
   "execution_count": null,
   "id": "b3dec855-6832-4300-b404-1af5d2566813",
   "metadata": {},
   "outputs": [],
   "source": [
    "best_threshold = 0.5\n",
    "best_silhouette_score = -1\n",
    "\n",
    "for threshold in np.arange(0.5, 1.0, 0.1):\n",
    "    birch = Birch(n_clusters=5, threshold=threshold)\n",
    "    birch.fit(df)\n",
    "    labels = birch.labels_\n",
    "    silhouette = silhouette_score(df, labels)\n",
    "\n",
    "    if silhouette > best_silhouette_score:\n",
    "        best_silhouette_score = silhouette\n",
    "        best_threshold = threshold\n",
    "\n",
    "print(\"Best threshold:\", best_threshold)"
   ]
  },
  {
   "cell_type": "code",
   "execution_count": null,
   "id": "6c872ef1-1f74-4ab1-8995-0f3b5623d442",
   "metadata": {},
   "outputs": [],
   "source": [
    "birch = Birch(threshold=0.5, n_clusters=5)\n",
    "yhat = birch.fit_predict(df)"
   ]
  },
  {
   "cell_type": "code",
   "execution_count": null,
   "id": "8cdd49ed-5776-42b5-9828-d40d4e0e5621",
   "metadata": {},
   "outputs": [],
   "source": [
    "clusters = np.unique(yhat)\n",
    "birch_labels = birch.labels_"
   ]
  },
  {
   "cell_type": "code",
   "execution_count": null,
   "id": "9efbd448-7443-44d8-bd82-7427eacb5f2d",
   "metadata": {},
   "outputs": [],
   "source": [
    "for cluster in clusters:\n",
    "    idx = np.where(yhat == cluster)\n",
    "    plt.scatter(X[idx, 0], X[idx, 1], cmap=\"viridis\", s=100)\n",
    "\n",
    "plt.title(\"Birch(threshold=0.5, n_clusters=5)\")\n",
    "plt.show()"
   ]
  },
  {
   "cell_type": "code",
   "execution_count": null,
   "id": "70ce5074-1342-4f55-b5c5-d07e28a131a4",
   "metadata": {},
   "outputs": [],
   "source": [
    "birch_sil = silhouette_score(df, birch_labels)\n",
    "birch_dav = davies_bouldin_score(df, birch_labels)\n",
    "\n",
    "print(\"Silhouette Score:\", birch_sil)\n",
    "print(\"Davies Bouldin Score:\", birch_dav)"
   ]
  },
  {
   "cell_type": "markdown",
   "id": "2eca54f5-5f08-407b-a7c5-33aad49e205d",
   "metadata": {},
   "source": [
    "# 6. Mini Batch K-Means"
   ]
  },
  {
   "cell_type": "code",
   "execution_count": null,
   "id": "52b414f3-ee62-4157-b9dd-953205276c5b",
   "metadata": {},
   "outputs": [],
   "source": [
    "mini = MiniBatchKMeans(n_clusters=2)\n",
    "yhat = mini.fit_predict(df)"
   ]
  },
  {
   "cell_type": "code",
   "execution_count": null,
   "id": "dcd43b0a-0dae-4a7a-9941-143050f207c8",
   "metadata": {},
   "outputs": [],
   "source": [
    "mini_labels = mini.labels_\n",
    "mini_clusters = mini.cluster_centers_"
   ]
  },
  {
   "cell_type": "code",
   "execution_count": null,
   "id": "d917b8c4-54d4-4281-bc4e-dd0663762b58",
   "metadata": {},
   "outputs": [],
   "source": [
    "plot_clustering(mini_labels, mini_clusters, \"MiniBatchKMeans(n_clusters=2)\")"
   ]
  },
  {
   "cell_type": "code",
   "execution_count": null,
   "id": "9a2a80a4-6524-4e55-915d-d4af61f04761",
   "metadata": {},
   "outputs": [],
   "source": [
    "mini_sil = silhouette_score(df, mini_labels)\n",
    "mini_dav = davies_bouldin_score(df, mini_labels)\n",
    "\n",
    "print(\"Silhouette Score:\", mini_sil)\n",
    "print(\"Davies Bouldin Score:\", mini_dav)"
   ]
  },
  {
   "cell_type": "code",
   "execution_count": null,
   "id": "c6aee35f-76b0-429b-8275-94b10088a929",
   "metadata": {},
   "outputs": [],
   "source": [
    "plot_elbow(MiniBatchKMeans(), k=(1, 15))"
   ]
  },
  {
   "cell_type": "code",
   "execution_count": null,
   "id": "ff70b475-dca1-4218-a2de-c9b52f8b67b3",
   "metadata": {},
   "outputs": [],
   "source": [
    "mini = MiniBatchKMeans(n_clusters=5)\n",
    "yhat = mini.fit_predict(df)"
   ]
  },
  {
   "cell_type": "code",
   "execution_count": null,
   "id": "1ca997dc-c94e-479a-a171-f402a1d9109d",
   "metadata": {},
   "outputs": [],
   "source": [
    "mini_labels = mini.labels_\n",
    "mini_clusters = mini.cluster_centers_"
   ]
  },
  {
   "cell_type": "code",
   "execution_count": null,
   "id": "0b0722f2-f51a-492d-8a77-a73a5716d722",
   "metadata": {},
   "outputs": [],
   "source": [
    "plot_clustering(mini_labels, mini_clusters, \"MiniBatchKMeans(n_clusters=5)\")"
   ]
  },
  {
   "cell_type": "code",
   "execution_count": null,
   "id": "c7792eba-fe16-4398-a1c1-9b91b6131eac",
   "metadata": {},
   "outputs": [],
   "source": [
    "mini_sil = silhouette_score(df, mini_labels)\n",
    "mini_dav = davies_bouldin_score(df, mini_labels)\n",
    "\n",
    "print(\"Silhouette Score:\", mini_sil)\n",
    "print(\"Davies Bouldin Score:\", mini_dav)"
   ]
  },
  {
   "cell_type": "markdown",
   "id": "d030a55e-28aa-47a3-8f05-0a675d02bb88",
   "metadata": {},
   "source": [
    "# 7. Mean Shift"
   ]
  },
  {
   "cell_type": "code",
   "execution_count": null,
   "id": "d1c287fa-28db-4eca-8a44-3db3c26ab567",
   "metadata": {},
   "outputs": [],
   "source": [
    "ms = MeanShift(bandwidth=10)\n",
    "yhat = ms.fit_predict(df)"
   ]
  },
  {
   "cell_type": "code",
   "execution_count": null,
   "id": "a08eaf32-f444-481c-9882-85e32f329644",
   "metadata": {},
   "outputs": [],
   "source": [
    "ms_labels = ms.labels_\n",
    "ms_clusters = ms.cluster_centers_"
   ]
  },
  {
   "cell_type": "code",
   "execution_count": null,
   "id": "d4dadfc0-0244-4af4-9a72-f42a7089fdc7",
   "metadata": {},
   "outputs": [],
   "source": [
    "plot_clustering(ms_labels, ms_clusters, \"MeanShift(bandwidth=10)\")"
   ]
  },
  {
   "cell_type": "code",
   "execution_count": null,
   "id": "d2a26890-b517-4b63-8b1b-c632ee3ffba2",
   "metadata": {},
   "outputs": [],
   "source": [
    "ms_sil = silhouette_score(df, ms_labels)\n",
    "ms_dav = davies_bouldin_score(df, ms_labels)\n",
    "\n",
    "print(\"Silhouette Score:\", ms_sil)\n",
    "print(\"Davies Bouldin Score:\", ms_dav)"
   ]
  },
  {
   "cell_type": "code",
   "execution_count": null,
   "id": "01fd5e96-0c48-4df8-a4e3-f9c4d6c1c89a",
   "metadata": {},
   "outputs": [],
   "source": [
    "best_bandwidth = 5\n",
    "best_silhouette_score = -1\n",
    "\n",
    "for bandwidth in np.arange(5, 30, 5):\n",
    "    meanshift = MeanShift(bandwidth=bandwidth)\n",
    "    yhat = meanshift.fit_predict(df)\n",
    "\n",
    "    labels = meanshift.labels_\n",
    "    silhouette = silhouette_score(df, labels)\n",
    "    if silhouette > best_silhouette_score:\n",
    "        best_silhouette_score = silhouette\n",
    "        best_bandwidth = bandwidth\n",
    "\n",
    "print(\"Best bandwidth:\", best_bandwidth)"
   ]
  },
  {
   "cell_type": "code",
   "execution_count": null,
   "id": "bd63138a-1dd4-43f7-81e8-a268107fc2e2",
   "metadata": {},
   "outputs": [],
   "source": [
    "ms = MeanShift(bandwidth=25)\n",
    "yhat = ms.fit_predict(df)"
   ]
  },
  {
   "cell_type": "code",
   "execution_count": null,
   "id": "c0cfc63d-a831-4488-8eee-7ac5513c8d9a",
   "metadata": {},
   "outputs": [],
   "source": [
    "ms_labels = ms.labels_\n",
    "ms_clusters = ms.cluster_centers_"
   ]
  },
  {
   "cell_type": "code",
   "execution_count": null,
   "id": "94b555b4-4f88-47d2-b435-42065cfe8ccf",
   "metadata": {},
   "outputs": [],
   "source": [
    "plot_clustering(ms_labels, ms_clusters, \"MeanShift(bandwidth=25)\")"
   ]
  },
  {
   "cell_type": "code",
   "execution_count": null,
   "id": "de3373ec-43d1-4817-b7c3-294a40c549c1",
   "metadata": {},
   "outputs": [],
   "source": [
    "ms_sil = silhouette_score(df, ms_labels)\n",
    "ms_dav = davies_bouldin_score(df, ms_labels)\n",
    "\n",
    "print(\"Silhouette Score:\", ms_sil)\n",
    "print(\"Davies Bouldin Score:\", ms_dav)"
   ]
  },
  {
   "cell_type": "markdown",
   "id": "318ad1ac-c944-4e8f-af04-b3b265c4cf46",
   "metadata": {},
   "source": [
    "# 8. Spectral Shifting"
   ]
  },
  {
   "cell_type": "code",
   "execution_count": null,
   "id": "4a0f7dd0-26f8-4b04-9cde-dc3a771f38c9",
   "metadata": {},
   "outputs": [],
   "source": [
    "sc = SpectralClustering(n_clusters=2)\n",
    "yhat = sc.fit_predict(df)"
   ]
  },
  {
   "cell_type": "code",
   "execution_count": null,
   "id": "1dd22b35-47be-4a20-91b6-4d52d41da0d1",
   "metadata": {},
   "outputs": [],
   "source": [
    "sc_labels = sc.labels_\n",
    "clusters = np.unique(yhat)"
   ]
  },
  {
   "cell_type": "code",
   "execution_count": null,
   "id": "70084d2a-37f3-423d-8574-74712caf88f8",
   "metadata": {},
   "outputs": [],
   "source": [
    "for cluster in clusters:\n",
    "    idx = np.where(yhat == cluster)\n",
    "    plt.scatter(X[idx, 0], X[idx, 1], cmap=\"viridis\", s=100)\n",
    "\n",
    "plt.title(\"SpectralClustering(n_clusters=2)\")\n",
    "plt.show()"
   ]
  },
  {
   "cell_type": "code",
   "execution_count": null,
   "id": "6d5f9338-d1a6-451b-84be-bedd994ecb76",
   "metadata": {},
   "outputs": [],
   "source": [
    "sc_sil = silhouette_score(df, sc_labels)\n",
    "sc_dav = davies_bouldin_score(df, sc_labels)\n",
    "\n",
    "print(\"Silhouette Score:\", sc_sil)\n",
    "print(\"Davies Bouldin Score:\", sc_dav)"
   ]
  },
  {
   "cell_type": "code",
   "execution_count": null,
   "id": "dd17e26c-7d61-4694-9f13-da56a5076783",
   "metadata": {},
   "outputs": [],
   "source": []
  },
  {
   "cell_type": "markdown",
   "id": "f4ca0648-312c-4ab8-9a78-37e1e36e2ed6",
   "metadata": {},
   "source": [
    "# 9. OPTICS"
   ]
  },
  {
   "cell_type": "code",
   "execution_count": null,
   "id": "09e24377-9c2b-42c2-bc8c-c7842b265b79",
   "metadata": {},
   "outputs": [],
   "source": [
    "op = OPTICS(eps=0.5, min_samples=10)\n",
    "yhat = op.fit_predict(df)"
   ]
  },
  {
   "cell_type": "code",
   "execution_count": null,
   "id": "71009e5c-2aab-4d4f-b0e4-3b3a65da8db5",
   "metadata": {},
   "outputs": [],
   "source": [
    "op_labels = op.labels_"
   ]
  },
  {
   "cell_type": "code",
   "execution_count": null,
   "id": "741d0d0b-0a6d-4ecb-b844-4f0c9c0b1128",
   "metadata": {},
   "outputs": [],
   "source": [
    "for cluster in clusters:\n",
    "    idx = np.where(yhat == cluster)\n",
    "    plt.scatter(X[idx, 0], X[idx, 1], cmap=\"viridis\", s=100)\n",
    "\n",
    "plt.title(\"OPTICS(eps=0.5, min_samples=5)\")\n",
    "plt.show()"
   ]
  },
  {
   "cell_type": "code",
   "execution_count": null,
   "id": "2cf6b30e-8311-4177-8980-90f49a0efab0",
   "metadata": {},
   "outputs": [],
   "source": [
    "op_sil = silhouette_score(df, op_labels)\n",
    "op_dav = davies_bouldin_score(df, op_labels)\n",
    "\n",
    "print(\"Silhouette Score:\", op_sil)\n",
    "print(\"Davies Bouldin Score:\", op_dav)"
   ]
  },
  {
   "cell_type": "markdown",
   "id": "a124f52d-9353-453b-92b3-b2bb8e299ca1",
   "metadata": {},
   "source": [
    "# 10. Gaussian Mixture"
   ]
  },
  {
   "cell_type": "code",
   "execution_count": null,
   "id": "ccc8bbf7-6f29-4b25-8f6a-3d742913d418",
   "metadata": {},
   "outputs": [],
   "source": [
    "gb = GaussianMixture(n_components=5)\n",
    "yhat = gb.fit_predict(df)"
   ]
  },
  {
   "cell_type": "code",
   "execution_count": null,
   "id": "d9b1323e-69bf-4ee6-a55b-87a2b92cce4b",
   "metadata": {},
   "outputs": [],
   "source": [
    "clusters = np.unique(yhat)\n",
    "for cluster in clusters:\n",
    "    idx = np.where(yhat == cluster)\n",
    "    plt.scatter(X[idx, 0], X[idx, 1], cmap=\"viridis\", s=100)\n",
    "\n",
    "plt.title(\"GaussianMixture(n_components=5)\")\n",
    "plt.show()"
   ]
  },
  {
   "cell_type": "code",
   "execution_count": null,
   "id": "ba41444c-ba77-4631-957f-e59e55a2f37e",
   "metadata": {},
   "outputs": [],
   "source": []
  }
 ],
 "metadata": {
  "kernelspec": {
   "display_name": "Python 3 (ipykernel)",
   "language": "python",
   "name": "python3"
  },
  "language_info": {
   "codemirror_mode": {
    "name": "ipython",
    "version": 3
   },
   "file_extension": ".py",
   "mimetype": "text/x-python",
   "name": "python",
   "nbconvert_exporter": "python",
   "pygments_lexer": "ipython3",
   "version": "3.10.12"
  }
 },
 "nbformat": 4,
 "nbformat_minor": 5
}
